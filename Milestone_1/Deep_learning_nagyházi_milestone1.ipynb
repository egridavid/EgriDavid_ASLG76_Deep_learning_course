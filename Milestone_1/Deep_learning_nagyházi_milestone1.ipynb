{
  "nbformat": 4,
  "nbformat_minor": 0,
  "metadata": {
    "colab": {
      "name": "Deep_learning_nagyházi_milestone1.ipynb",
      "version": "0.3.2",
      "provenance": [],
      "collapsed_sections": [],
      "include_colab_link": true
    },
    "kernelspec": {
      "display_name": "Python 3",
      "language": "python",
      "name": "python3"
    }
  },
  "cells": [
    {
      "cell_type": "markdown",
      "metadata": {
        "id": "view-in-github",
        "colab_type": "text"
      },
      "source": [
        "[View in Colaboratory](https://colab.research.google.com/github/egridavid/EgriDavid_ASLG76_Deep_learning_course/blob/master/Milestone_1/Deep_learning_nagyh%C3%A1zi_milestone1.ipynb)"
      ]
    },
    {
      "metadata": {
        "colab_type": "text",
        "id": "rlmTkW6rLoL9"
      },
      "cell_type": "markdown",
      "source": [
        "# Milestone 1 solution\n",
        "\n",
        "* Our solution for milestone 1 in Deep Learning in practice with Python and LUA\n",
        "\n",
        "* Team: dynamic_duo\n",
        "\n",
        "* Members: Egri Dávid (ASLG76), Kovács Martin (DD6YMO)\n"
      ]
    },
    {
      "metadata": {
        "colab_type": "text",
        "id": "a2_CRFyiMjrO"
      },
      "cell_type": "markdown",
      "source": [
        "## Load the packages "
      ]
    },
    {
      "metadata": {
        "colab": {},
        "colab_type": "code",
        "id": "jeD42T3EKW8A"
      },
      "cell_type": "code",
      "source": [
        "# for numeric calculations\n",
        "import numpy as np\n",
        "# for plotting\n",
        "import matplotlib.pyplot as plt\n",
        "import matplotlib.image as mpimg\n",
        "%matplotlib inline\n",
        "plt.style.use('default')\n",
        "# for data handling\n",
        "import pandas as pd\n",
        "# for path handling\n",
        "from pathlib import Path\n",
        "# for image handling\n",
        "!pip install -q imageio\n",
        "import imageio"
      ],
      "execution_count": 0,
      "outputs": []
    },
    {
      "metadata": {
        "colab": {},
        "colab_type": "code",
        "id": "cBMvASxTKpGZ"
      },
      "cell_type": "code",
      "source": [
        "ROOT = Path(r'/Users/egridavid.bp/Downloads/ISIC2018_Task1-2_Training_Input')"
      ],
      "execution_count": 0,
      "outputs": []
    },
    {
      "metadata": {
        "colab": {},
        "colab_type": "code",
        "id": "5qzY9-VsNNuu"
      },
      "cell_type": "code",
      "source": [
        "from google.colab import drive\n",
        "drive.mount(Path(r'/content/gdrive'))"
      ],
      "execution_count": 0,
      "outputs": []
    },
    {
      "metadata": {
        "id": "-koGzyECA_cY",
        "colab_type": "code",
        "colab": {}
      },
      "cell_type": "code",
      "source": [
        "path = Path(r'/content/gdrive/My Drive/ISIC2018/ISIC2018_Task1-2_Training_Input/ISIC_0016072.jpg')\n",
        "img=imageio.imread(path)\n",
        "plt.imshow(img)"
      ],
      "execution_count": 0,
      "outputs": []
    },
    {
      "metadata": {
        "id": "kBQe-IFKCbOE",
        "colab_type": "code",
        "colab": {}
      },
      "cell_type": "code",
      "source": [
        ""
      ],
      "execution_count": 0,
      "outputs": []
    },
    {
      "metadata": {
        "id": "or_DowSAC-Fl",
        "colab_type": "code",
        "colab": {}
      },
      "cell_type": "code",
      "source": [
        ""
      ],
      "execution_count": 0,
      "outputs": []
    }
  ]
}
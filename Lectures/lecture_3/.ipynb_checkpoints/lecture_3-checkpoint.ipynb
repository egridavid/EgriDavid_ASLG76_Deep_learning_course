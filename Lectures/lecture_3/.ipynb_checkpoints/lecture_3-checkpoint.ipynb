{
 "cells": [
  {
   "cell_type": "markdown",
   "metadata": {},
   "source": [
    "# 3. előadás jegyzet (2018.09.18)\n",
    "\n",
    "---"
   ]
  },
  {
   "cell_type": "markdown",
   "metadata": {},
   "source": [
    "## Hírek az elmúlt 168 órából\n",
    "* [google what if tool] --> új google oldal\n",
    "    * adatbázisokat lehet nézegetni vizualizációval\n",
    "    * példa --> smile detection\n",
    "        * inference label --> classification szerint színez\n",
    "        * scatter: inference score --> milyen valséggel az a class ami --> meg lehet nézni, hogy a hibásak hogyan  néznek ki a valóságban\n",
    "\n",
    "---\n",
    "\n",
    "[google what if tool]:https://pair-code.github.io/what-if-tool/"
   ]
  },
  {
   "cell_type": "markdown",
   "metadata": {},
   "source": [
    "## Ismétlés\n",
    "\n",
    "*__hiper paraméter elnevezés:__* azért mert a súlyok szoktak lenni a paraméterek pl. a tanulási ráta pedig egy ezen túli paraméter\n",
    "\n",
    "*__nem jó túl sok mintán kiátlagolni a gradienst__* --> elviheti rossz minimum felé\n",
    "\n",
    "*__egy mintán se jó csinálni__* --> másfele visznek (pl.: kutya minimum és macska minimum)\n",
    "\n",
    "*__ --> mini batch tanítás a legjobb általában  __*\n",
    "\n",
    "---"
   ]
  },
  {
   "cell_type": "markdown",
   "metadata": {},
   "source": [
    "## 8.dia\n",
    "*__Túltanulás:__* mindig három részre osztjuk az adatokat --> train - valid - test\n",
    "\n",
    "* vagy a train adatokra illszekedik tökéletesen a görbe, de rossz az újakra vagy fordítva"
   ]
  },
  {
   "cell_type": "markdown",
   "metadata": {},
   "source": [
    "## 9.dia\n",
    "\n",
    "* nagyháziban minden kell ami ezen a dián van\n",
    "\n",
    "* mindig fell kell osztani az adatbázist\n",
    "\n",
    "* validációs rész: a hiba számításra\n",
    "\n",
    "* Epoch nem lesz olyan vészes, mert a valid adatokkal tudjuk tesztelni az epoch értéket, de csomó adat kell valid-nak\n",
    "\n",
    "* *__érdekes téma: mi a jobb keverés a randomnál__*"
   ]
  },
  {
   "cell_type": "markdown",
   "metadata": {},
   "source": [
    "## 10.dia\n",
    "\n",
    "* *__pl.: ha 20 epoch-ig nem javul a háló, akkor vissza kell tölteni az ez elöttit --> nincs benne a package-ekben__*"
   ]
  },
  {
   "cell_type": "markdown",
   "metadata": {},
   "source": [
    "## 11.dia\n",
    "\n",
    "* k folds validáció --> nem használjuk nagyon deep learningben --> nagyon megdobja az időt, inkább az adatokat növeljük\n",
    "\n",
    "* klasszikus technikákban nagyon gyakori\n",
    "\n",
    "* menő ha használod a háziban\n",
    "\n",
    "* az adatok felosztása: különböző arányok --> első pont"
   ]
  },
  {
   "cell_type": "markdown",
   "metadata": {},
   "source": [
    "## 12.dia\n",
    "\n",
    "* már néggyel is over fittingelni lehet\n",
    "\n",
    "* *__mindig az a lényeg, hogy a test adatokon legyen jó a háló!!__*"
   ]
  },
  {
   "cell_type": "markdown",
   "metadata": {},
   "source": [
    "*__ lehet diát váltott közben :( __*"
   ]
  },
  {
   "cell_type": "markdown",
   "metadata": {},
   "source": [
    "*__ érdekes téma: súlyok iniciálizálása az adatok ismeretében __*"
   ]
  },
  {
   "cell_type": "markdown",
   "metadata": {},
   "source": [
    "## 20.dia\n",
    "\n",
    "* további megkötés --> a súlyokra vonatkozóan\n",
    "\n",
    "* nem csak a hiba, de a súlyok is minimálisak legyenek valamilyen értelemben\n",
    "\n",
    "* *__L2: legyenek kis súlyok --> ezeket helyettesíthetjük 0-val --> kisebb háló --> szinte csak erre használjuk__*\n",
    "\n",
    "* *__L1: mindig használjuk__*\n",
    "\n",
    "* nem szeretjük ha elszálnak a súlyok --> egy feature-t felerősíthet"
   ]
  },
  {
   "cell_type": "markdown",
   "metadata": {},
   "source": [
    "## 21.dia\n",
    "\n",
    "* *__Ezt is mindig használjuk__*\n",
    "\n",
    "* jellemzően 50% valség az értéke --> minden epochban csináljuk --> neuronokat veszünk figyelembe vagy nem, de nem öljük meg őket"
   ]
  },
  {
   "cell_type": "markdown",
   "metadata": {},
   "source": []
  }
 ],
 "metadata": {
  "kernelspec": {
   "display_name": "Python 3",
   "language": "python",
   "name": "python3"
  },
  "language_info": {
   "codemirror_mode": {
    "name": "ipython",
    "version": 3
   },
   "file_extension": ".py",
   "mimetype": "text/x-python",
   "name": "python",
   "nbconvert_exporter": "python",
   "pygments_lexer": "ipython3",
   "version": "3.6.4"
  }
 },
 "nbformat": 4,
 "nbformat_minor": 2
}

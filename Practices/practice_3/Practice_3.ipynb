{
 "cells": [
  {
   "cell_type": "markdown",
   "metadata": {},
   "source": [
    "Standard scaler csak 2D - re jó, képek tipikusan 3D - ben vannak az RGB csatornák miatt --> vissza kell vezetni"
   ]
  },
  {
   "cell_type": "markdown",
   "metadata": {},
   "source": [
    "Figyleni kell az kimeneti függvényre\n",
    "\n",
    "* Kimenet tanh ami -1,1 között nem lesz jó a kimenethez \n",
    "* tanulni fog csak nem lesz ideális\n",
    "* sigmoid lenne jó\n",
    "\n"
   ]
  },
  {
   "cell_type": "markdown",
   "metadata": {},
   "source": [
    "Összehasonlítottuk, hogy hogyan alakul az eredmény a két kimeneti függvény esetén"
   ]
  },
  {
   "cell_type": "markdown",
   "metadata": {},
   "source": [
    "runtime --> runtime type --> GPU fusson \n",
    "\n",
    "kérdés gyorsabb lett-e tőle ?\n",
    "\n",
    "Nem lett gyorsabb, mert kicsi a batch size --> így sokat kell másolni --> a GPU és a CPU között"
   ]
  },
  {
   "cell_type": "markdown",
   "metadata": {},
   "source": [
    "Keras online documentáció --> érdemes nézni a source kódot"
   ]
  },
  {
   "cell_type": "markdown",
   "metadata": {},
   "source": [
    "A callback-et is a keras source alapján lehet megérteni  --> úgy kell megírni a sajátot ahogy ott van és akkor tudja használni a belső függvényeket magunk tudjuk definiálni"
   ]
  },
  {
   "cell_type": "markdown",
   "metadata": {},
   "source": [
    "Ha a modell.fit - nek hst = adunk akkor ott is meglesznek a cuccok, mint amik a callback-ben"
   ]
  },
  {
   "cell_type": "markdown",
   "metadata": {},
   "source": [
    "Google collab-ban átírhatjuk a kódot ha már fut"
   ]
  },
  {
   "cell_type": "markdown",
   "metadata": {},
   "source": [
    "Ha van early stopping, akkor szintén kell checkpoint hiszen nem elég ha csak megállítjuk a tanítást, vissza is ell tölteni a jót"
   ]
  },
  {
   "cell_type": "markdown",
   "metadata": {},
   "source": [
    "Megnézni mi az a verbose változó a függvényekben "
   ]
  },
  {
   "cell_type": "markdown",
   "metadata": {},
   "source": [
    "A callbacks egy array szépen egyesével ugrál végig --> számít a sorrend --> mcp, es a jó sorrend --> értelem szerűen\n",
    "\n",
    "* early stopping esetén nagy epoch amit úgy se fog elérni "
   ]
  },
  {
   "cell_type": "markdown",
   "metadata": {},
   "source": [
    "Az early stopping ban is van best weights vissza import"
   ]
  },
  {
   "cell_type": "markdown",
   "metadata": {},
   "source": [
    "Valahogy checkpointolni kéne a gyakors notebookot"
   ]
  },
  {
   "cell_type": "markdown",
   "metadata": {},
   "source": [
    "A summary-ban a neve a rétegnek függ a futtatás számától "
   ]
  },
  {
   "cell_type": "markdown",
   "metadata": {},
   "source": [
    "Megnézni a bias a neur hálóknál"
   ]
  },
  {
   "cell_type": "markdown",
   "metadata": {},
   "source": [
    "A 0.25 hibán kell túljutni mert sqrt(0.25)=0.5 amikor még pont nem tudja eldönteni ennél a problémára"
   ]
  },
  {
   "cell_type": "code",
   "execution_count": null,
   "metadata": {},
   "outputs": [],
   "source": []
  }
 ],
 "metadata": {
  "kernelspec": {
   "display_name": "Python 3",
   "language": "python",
   "name": "python3"
  },
  "language_info": {
   "codemirror_mode": {
    "name": "ipython",
    "version": 3
   },
   "file_extension": ".py",
   "mimetype": "text/x-python",
   "name": "python",
   "nbconvert_exporter": "python",
   "pygments_lexer": "ipython3",
   "version": "3.6.6"
  },
  "toc": {
   "base_numbering": 1,
   "nav_menu": {},
   "number_sections": true,
   "sideBar": true,
   "skip_h1_title": false,
   "title_cell": "Table of Contents",
   "title_sidebar": "Contents",
   "toc_cell": false,
   "toc_position": {},
   "toc_section_display": true,
   "toc_window_display": false
  },
  "varInspector": {
   "cols": {
    "lenName": 16,
    "lenType": 16,
    "lenVar": "120"
   },
   "kernels_config": {
    "python": {
     "delete_cmd_postfix": "",
     "delete_cmd_prefix": "del ",
     "library": "var_list.py",
     "varRefreshCmd": "print(var_dic_list())"
    },
    "r": {
     "delete_cmd_postfix": ") ",
     "delete_cmd_prefix": "rm(",
     "library": "var_list.r",
     "varRefreshCmd": "cat(var_dic_list()) "
    }
   },
   "types_to_exclude": [
    "module",
    "function",
    "builtin_function_or_method",
    "instance",
    "_Feature"
   ],
   "window_display": false
  }
 },
 "nbformat": 4,
 "nbformat_minor": 2
}

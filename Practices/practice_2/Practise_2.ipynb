{
 "cells": [
  {
   "cell_type": "markdown",
   "metadata": {},
   "source": [
    "Practise 2 "
   ]
  },
  {
   "cell_type": "code",
   "execution_count": 2,
   "metadata": {},
   "outputs": [],
   "source": [
    "import numpy as np"
   ]
  },
  {
   "cell_type": "code",
   "execution_count": 3,
   "metadata": {},
   "outputs": [],
   "source": [
    "a = np.arange(10)*3"
   ]
  },
  {
   "cell_type": "code",
   "execution_count": 4,
   "metadata": {},
   "outputs": [
    {
     "data": {
      "text/plain": [
       "array([ 0,  3,  6,  9, 12, 15, 18, 21, 24, 27])"
      ]
     },
     "execution_count": 4,
     "metadata": {},
     "output_type": "execute_result"
    }
   ],
   "source": [
    "a"
   ]
  },
  {
   "cell_type": "code",
   "execution_count": 5,
   "metadata": {},
   "outputs": [
    {
     "data": {
      "text/plain": [
       "array([27, 24, 21, 18, 15, 12,  9,  6,  3,  0])"
      ]
     },
     "execution_count": 5,
     "metadata": {},
     "output_type": "execute_result"
    }
   ],
   "source": [
    "a[::-1]"
   ]
  },
  {
   "cell_type": "code",
   "execution_count": 6,
   "metadata": {},
   "outputs": [
    {
     "data": {
      "text/plain": [
       "array([], dtype=int64)"
      ]
     },
     "execution_count": 6,
     "metadata": {},
     "output_type": "execute_result"
    }
   ],
   "source": [
    "a[-3:0]"
   ]
  },
  {
   "cell_type": "code",
   "execution_count": 7,
   "metadata": {},
   "outputs": [
    {
     "data": {
      "text/plain": [
       "array([21, 18, 15, 12,  9,  6,  3])"
      ]
     },
     "execution_count": 7,
     "metadata": {},
     "output_type": "execute_result"
    }
   ],
   "source": [
    "a[-3:0:-1]"
   ]
  },
  {
   "cell_type": "code",
   "execution_count": 8,
   "metadata": {},
   "outputs": [
    {
     "data": {
      "text/plain": [
       "array([21, 18, 15, 12,  9,  6,  3,  0])"
      ]
     },
     "execution_count": 8,
     "metadata": {},
     "output_type": "execute_result"
    }
   ],
   "source": [
    "a[-3::-1]"
   ]
  },
  {
   "cell_type": "code",
   "execution_count": 9,
   "metadata": {},
   "outputs": [
    {
     "data": {
      "text/plain": [
       "array([21, 24, 27])"
      ]
     },
     "execution_count": 9,
     "metadata": {},
     "output_type": "execute_result"
    }
   ],
   "source": [
    "a[-3:]"
   ]
  },
  {
   "cell_type": "code",
   "execution_count": 10,
   "metadata": {},
   "outputs": [],
   "source": [
    "a[-3:]=1000"
   ]
  },
  {
   "cell_type": "code",
   "execution_count": 11,
   "metadata": {},
   "outputs": [
    {
     "data": {
      "text/plain": [
       "array([   0,    3,    6,    9,   12,   15,   18, 1000, 1000, 1000])"
      ]
     },
     "execution_count": 11,
     "metadata": {},
     "output_type": "execute_result"
    }
   ],
   "source": [
    "a"
   ]
  },
  {
   "cell_type": "code",
   "execution_count": 12,
   "metadata": {},
   "outputs": [],
   "source": [
    "b = np.arange(20).reshape(5,4)"
   ]
  },
  {
   "cell_type": "code",
   "execution_count": 13,
   "metadata": {},
   "outputs": [
    {
     "data": {
      "text/plain": [
       "array([[ 0,  1,  2,  3],\n",
       "       [ 4,  5,  6,  7],\n",
       "       [ 8,  9, 10, 11],\n",
       "       [12, 13, 14, 15],\n",
       "       [16, 17, 18, 19]])"
      ]
     },
     "execution_count": 13,
     "metadata": {},
     "output_type": "execute_result"
    }
   ],
   "source": [
    "b"
   ]
  },
  {
   "cell_type": "code",
   "execution_count": 14,
   "metadata": {},
   "outputs": [
    {
     "data": {
      "text/plain": [
       "11"
      ]
     },
     "execution_count": 14,
     "metadata": {},
     "output_type": "execute_result"
    }
   ],
   "source": [
    "b[2,3]"
   ]
  },
  {
   "cell_type": "code",
   "execution_count": 16,
   "metadata": {},
   "outputs": [
    {
     "data": {
      "text/plain": [
       "array([ 1,  5,  9, 13, 17])"
      ]
     },
     "execution_count": 16,
     "metadata": {},
     "output_type": "execute_result"
    }
   ],
   "source": [
    "b[:,1]"
   ]
  },
  {
   "cell_type": "code",
   "execution_count": 17,
   "metadata": {},
   "outputs": [
    {
     "data": {
      "text/plain": [
       "array([4, 5, 6, 7])"
      ]
     },
     "execution_count": 17,
     "metadata": {},
     "output_type": "execute_result"
    }
   ],
   "source": [
    "b[1,:]"
   ]
  },
  {
   "cell_type": "code",
   "execution_count": 18,
   "metadata": {},
   "outputs": [
    {
     "data": {
      "text/plain": [
       "array([[16, 17, 18],\n",
       "       [ 8,  9, 10],\n",
       "       [ 0,  1,  2]])"
      ]
     },
     "execution_count": 18,
     "metadata": {},
     "output_type": "execute_result"
    }
   ],
   "source": [
    "b[::-2,0:3]"
   ]
  },
  {
   "cell_type": "code",
   "execution_count": 19,
   "metadata": {},
   "outputs": [],
   "source": [
    "c = b"
   ]
  },
  {
   "cell_type": "code",
   "execution_count": 20,
   "metadata": {},
   "outputs": [],
   "source": [
    "b[0,0]=1000"
   ]
  },
  {
   "cell_type": "code",
   "execution_count": 21,
   "metadata": {},
   "outputs": [
    {
     "data": {
      "text/plain": [
       "array([[1000,    1,    2,    3],\n",
       "       [   4,    5,    6,    7],\n",
       "       [   8,    9,   10,   11],\n",
       "       [  12,   13,   14,   15],\n",
       "       [  16,   17,   18,   19]])"
      ]
     },
     "execution_count": 21,
     "metadata": {},
     "output_type": "execute_result"
    }
   ],
   "source": [
    "c"
   ]
  },
  {
   "cell_type": "markdown",
   "metadata": {},
   "source": [
    "multiprocessfor:\n",
    "    df = pd.read_csv(...)\n",
    "    narray = df.values\n",
    "    process(narray)\n",
    "    \n",
    "itt szívás az előző érték adás"
   ]
  },
  {
   "cell_type": "code",
   "execution_count": 22,
   "metadata": {},
   "outputs": [],
   "source": [
    "d=b.copy()"
   ]
  },
  {
   "cell_type": "code",
   "execution_count": 23,
   "metadata": {},
   "outputs": [],
   "source": [
    "b[1,1]=1000"
   ]
  },
  {
   "cell_type": "code",
   "execution_count": 26,
   "metadata": {},
   "outputs": [
    {
     "data": {
      "text/plain": [
       "array([[1000,    1,    2,    3],\n",
       "       [   4, 1000,    6,    7],\n",
       "       [   8,    9,   10,   11],\n",
       "       [  12,   13,   14,   15],\n",
       "       [  16,   17,   18,   19]])"
      ]
     },
     "execution_count": 26,
     "metadata": {},
     "output_type": "execute_result"
    }
   ],
   "source": [
    "b"
   ]
  },
  {
   "cell_type": "code",
   "execution_count": 27,
   "metadata": {},
   "outputs": [
    {
     "data": {
      "text/plain": [
       "array([[1000,    1,    2,    3],\n",
       "       [   4, 1000,    6,    7],\n",
       "       [   8,    9,   10,   11],\n",
       "       [  12,   13,   14,   15],\n",
       "       [  16,   17,   18,   19]])"
      ]
     },
     "execution_count": 27,
     "metadata": {},
     "output_type": "execute_result"
    }
   ],
   "source": [
    "c"
   ]
  },
  {
   "cell_type": "code",
   "execution_count": 28,
   "metadata": {},
   "outputs": [
    {
     "data": {
      "text/plain": [
       "array([[1000,    1,    2,    3],\n",
       "       [   4,    5,    6,    7],\n",
       "       [   8,    9,   10,   11],\n",
       "       [  12,   13,   14,   15],\n",
       "       [  16,   17,   18,   19]])"
      ]
     },
     "execution_count": 28,
     "metadata": {},
     "output_type": "execute_result"
    }
   ],
   "source": [
    "d"
   ]
  },
  {
   "cell_type": "markdown",
   "metadata": {},
   "source": [
    "# Backprop numpy alapon"
   ]
  },
  {
   "cell_type": "markdown",
   "metadata": {},
   "source": [
    "XOR feladatot oldunk:\n",
    "\n",
    "a multkori lázas példa\n",
    "\n",
    "0,0 0\n",
    "\n",
    "0,1 1\n",
    "\n",
    "1,0 1\n",
    "\n",
    "1,1 0"
   ]
  },
  {
   "cell_type": "code",
   "execution_count": 31,
   "metadata": {},
   "outputs": [],
   "source": [
    "import numpy as np\n",
    "from sklearn import preprocessing"
   ]
  },
  {
   "cell_type": "code",
   "execution_count": 34,
   "metadata": {},
   "outputs": [],
   "source": [
    "%matplotlib notebook\n",
    "import matplotlib.pyplot as plt"
   ]
  },
  {
   "cell_type": "code",
   "execution_count": 36,
   "metadata": {},
   "outputs": [],
   "source": [
    "def activation(x):\n",
    "    return(1/(1+np.exp(-x)))\n",
    "def dactivation(x):\n",
    "    return (np.exp(-x)/((1+np.exp(-x))**2))"
   ]
  },
  {
   "cell_type": "code",
   "execution_count": 38,
   "metadata": {},
   "outputs": [
    {
     "data": {
      "application/javascript": [
       "/* Put everything inside the global mpl namespace */\n",
       "window.mpl = {};\n",
       "\n",
       "\n",
       "mpl.get_websocket_type = function() {\n",
       "    if (typeof(WebSocket) !== 'undefined') {\n",
       "        return WebSocket;\n",
       "    } else if (typeof(MozWebSocket) !== 'undefined') {\n",
       "        return MozWebSocket;\n",
       "    } else {\n",
       "        alert('Your browser does not have WebSocket support.' +\n",
       "              'Please try Chrome, Safari or Firefox ≥ 6. ' +\n",
       "              'Firefox 4 and 5 are also supported but you ' +\n",
       "              'have to enable WebSockets in about:config.');\n",
       "    };\n",
       "}\n",
       "\n",
       "mpl.figure = function(figure_id, websocket, ondownload, parent_element) {\n",
       "    this.id = figure_id;\n",
       "\n",
       "    this.ws = websocket;\n",
       "\n",
       "    this.supports_binary = (this.ws.binaryType != undefined);\n",
       "\n",
       "    if (!this.supports_binary) {\n",
       "        var warnings = document.getElementById(\"mpl-warnings\");\n",
       "        if (warnings) {\n",
       "            warnings.style.display = 'block';\n",
       "            warnings.textContent = (\n",
       "                \"This browser does not support binary websocket messages. \" +\n",
       "                    \"Performance may be slow.\");\n",
       "        }\n",
       "    }\n",
       "\n",
       "    this.imageObj = new Image();\n",
       "\n",
       "    this.context = undefined;\n",
       "    this.message = undefined;\n",
       "    this.canvas = undefined;\n",
       "    this.rubberband_canvas = undefined;\n",
       "    this.rubberband_context = undefined;\n",
       "    this.format_dropdown = undefined;\n",
       "\n",
       "    this.image_mode = 'full';\n",
       "\n",
       "    this.root = $('<div/>');\n",
       "    this._root_extra_style(this.root)\n",
       "    this.root.attr('style', 'display: inline-block');\n",
       "\n",
       "    $(parent_element).append(this.root);\n",
       "\n",
       "    this._init_header(this);\n",
       "    this._init_canvas(this);\n",
       "    this._init_toolbar(this);\n",
       "\n",
       "    var fig = this;\n",
       "\n",
       "    this.waiting = false;\n",
       "\n",
       "    this.ws.onopen =  function () {\n",
       "            fig.send_message(\"supports_binary\", {value: fig.supports_binary});\n",
       "            fig.send_message(\"send_image_mode\", {});\n",
       "            if (mpl.ratio != 1) {\n",
       "                fig.send_message(\"set_dpi_ratio\", {'dpi_ratio': mpl.ratio});\n",
       "            }\n",
       "            fig.send_message(\"refresh\", {});\n",
       "        }\n",
       "\n",
       "    this.imageObj.onload = function() {\n",
       "            if (fig.image_mode == 'full') {\n",
       "                // Full images could contain transparency (where diff images\n",
       "                // almost always do), so we need to clear the canvas so that\n",
       "                // there is no ghosting.\n",
       "                fig.context.clearRect(0, 0, fig.canvas.width, fig.canvas.height);\n",
       "            }\n",
       "            fig.context.drawImage(fig.imageObj, 0, 0);\n",
       "        };\n",
       "\n",
       "    this.imageObj.onunload = function() {\n",
       "        fig.ws.close();\n",
       "    }\n",
       "\n",
       "    this.ws.onmessage = this._make_on_message_function(this);\n",
       "\n",
       "    this.ondownload = ondownload;\n",
       "}\n",
       "\n",
       "mpl.figure.prototype._init_header = function() {\n",
       "    var titlebar = $(\n",
       "        '<div class=\"ui-dialog-titlebar ui-widget-header ui-corner-all ' +\n",
       "        'ui-helper-clearfix\"/>');\n",
       "    var titletext = $(\n",
       "        '<div class=\"ui-dialog-title\" style=\"width: 100%; ' +\n",
       "        'text-align: center; padding: 3px;\"/>');\n",
       "    titlebar.append(titletext)\n",
       "    this.root.append(titlebar);\n",
       "    this.header = titletext[0];\n",
       "}\n",
       "\n",
       "\n",
       "\n",
       "mpl.figure.prototype._canvas_extra_style = function(canvas_div) {\n",
       "\n",
       "}\n",
       "\n",
       "\n",
       "mpl.figure.prototype._root_extra_style = function(canvas_div) {\n",
       "\n",
       "}\n",
       "\n",
       "mpl.figure.prototype._init_canvas = function() {\n",
       "    var fig = this;\n",
       "\n",
       "    var canvas_div = $('<div/>');\n",
       "\n",
       "    canvas_div.attr('style', 'position: relative; clear: both; outline: 0');\n",
       "\n",
       "    function canvas_keyboard_event(event) {\n",
       "        return fig.key_event(event, event['data']);\n",
       "    }\n",
       "\n",
       "    canvas_div.keydown('key_press', canvas_keyboard_event);\n",
       "    canvas_div.keyup('key_release', canvas_keyboard_event);\n",
       "    this.canvas_div = canvas_div\n",
       "    this._canvas_extra_style(canvas_div)\n",
       "    this.root.append(canvas_div);\n",
       "\n",
       "    var canvas = $('<canvas/>');\n",
       "    canvas.addClass('mpl-canvas');\n",
       "    canvas.attr('style', \"left: 0; top: 0; z-index: 0; outline: 0\")\n",
       "\n",
       "    this.canvas = canvas[0];\n",
       "    this.context = canvas[0].getContext(\"2d\");\n",
       "\n",
       "    var backingStore = this.context.backingStorePixelRatio ||\n",
       "\tthis.context.webkitBackingStorePixelRatio ||\n",
       "\tthis.context.mozBackingStorePixelRatio ||\n",
       "\tthis.context.msBackingStorePixelRatio ||\n",
       "\tthis.context.oBackingStorePixelRatio ||\n",
       "\tthis.context.backingStorePixelRatio || 1;\n",
       "\n",
       "    mpl.ratio = (window.devicePixelRatio || 1) / backingStore;\n",
       "\n",
       "    var rubberband = $('<canvas/>');\n",
       "    rubberband.attr('style', \"position: absolute; left: 0; top: 0; z-index: 1;\")\n",
       "\n",
       "    var pass_mouse_events = true;\n",
       "\n",
       "    canvas_div.resizable({\n",
       "        start: function(event, ui) {\n",
       "            pass_mouse_events = false;\n",
       "        },\n",
       "        resize: function(event, ui) {\n",
       "            fig.request_resize(ui.size.width, ui.size.height);\n",
       "        },\n",
       "        stop: function(event, ui) {\n",
       "            pass_mouse_events = true;\n",
       "            fig.request_resize(ui.size.width, ui.size.height);\n",
       "        },\n",
       "    });\n",
       "\n",
       "    function mouse_event_fn(event) {\n",
       "        if (pass_mouse_events)\n",
       "            return fig.mouse_event(event, event['data']);\n",
       "    }\n",
       "\n",
       "    rubberband.mousedown('button_press', mouse_event_fn);\n",
       "    rubberband.mouseup('button_release', mouse_event_fn);\n",
       "    // Throttle sequential mouse events to 1 every 20ms.\n",
       "    rubberband.mousemove('motion_notify', mouse_event_fn);\n",
       "\n",
       "    rubberband.mouseenter('figure_enter', mouse_event_fn);\n",
       "    rubberband.mouseleave('figure_leave', mouse_event_fn);\n",
       "\n",
       "    canvas_div.on(\"wheel\", function (event) {\n",
       "        event = event.originalEvent;\n",
       "        event['data'] = 'scroll'\n",
       "        if (event.deltaY < 0) {\n",
       "            event.step = 1;\n",
       "        } else {\n",
       "            event.step = -1;\n",
       "        }\n",
       "        mouse_event_fn(event);\n",
       "    });\n",
       "\n",
       "    canvas_div.append(canvas);\n",
       "    canvas_div.append(rubberband);\n",
       "\n",
       "    this.rubberband = rubberband;\n",
       "    this.rubberband_canvas = rubberband[0];\n",
       "    this.rubberband_context = rubberband[0].getContext(\"2d\");\n",
       "    this.rubberband_context.strokeStyle = \"#000000\";\n",
       "\n",
       "    this._resize_canvas = function(width, height) {\n",
       "        // Keep the size of the canvas, canvas container, and rubber band\n",
       "        // canvas in synch.\n",
       "        canvas_div.css('width', width)\n",
       "        canvas_div.css('height', height)\n",
       "\n",
       "        canvas.attr('width', width * mpl.ratio);\n",
       "        canvas.attr('height', height * mpl.ratio);\n",
       "        canvas.attr('style', 'width: ' + width + 'px; height: ' + height + 'px;');\n",
       "\n",
       "        rubberband.attr('width', width);\n",
       "        rubberband.attr('height', height);\n",
       "    }\n",
       "\n",
       "    // Set the figure to an initial 600x600px, this will subsequently be updated\n",
       "    // upon first draw.\n",
       "    this._resize_canvas(600, 600);\n",
       "\n",
       "    // Disable right mouse context menu.\n",
       "    $(this.rubberband_canvas).bind(\"contextmenu\",function(e){\n",
       "        return false;\n",
       "    });\n",
       "\n",
       "    function set_focus () {\n",
       "        canvas.focus();\n",
       "        canvas_div.focus();\n",
       "    }\n",
       "\n",
       "    window.setTimeout(set_focus, 100);\n",
       "}\n",
       "\n",
       "mpl.figure.prototype._init_toolbar = function() {\n",
       "    var fig = this;\n",
       "\n",
       "    var nav_element = $('<div/>')\n",
       "    nav_element.attr('style', 'width: 100%');\n",
       "    this.root.append(nav_element);\n",
       "\n",
       "    // Define a callback function for later on.\n",
       "    function toolbar_event(event) {\n",
       "        return fig.toolbar_button_onclick(event['data']);\n",
       "    }\n",
       "    function toolbar_mouse_event(event) {\n",
       "        return fig.toolbar_button_onmouseover(event['data']);\n",
       "    }\n",
       "\n",
       "    for(var toolbar_ind in mpl.toolbar_items) {\n",
       "        var name = mpl.toolbar_items[toolbar_ind][0];\n",
       "        var tooltip = mpl.toolbar_items[toolbar_ind][1];\n",
       "        var image = mpl.toolbar_items[toolbar_ind][2];\n",
       "        var method_name = mpl.toolbar_items[toolbar_ind][3];\n",
       "\n",
       "        if (!name) {\n",
       "            // put a spacer in here.\n",
       "            continue;\n",
       "        }\n",
       "        var button = $('<button/>');\n",
       "        button.addClass('ui-button ui-widget ui-state-default ui-corner-all ' +\n",
       "                        'ui-button-icon-only');\n",
       "        button.attr('role', 'button');\n",
       "        button.attr('aria-disabled', 'false');\n",
       "        button.click(method_name, toolbar_event);\n",
       "        button.mouseover(tooltip, toolbar_mouse_event);\n",
       "\n",
       "        var icon_img = $('<span/>');\n",
       "        icon_img.addClass('ui-button-icon-primary ui-icon');\n",
       "        icon_img.addClass(image);\n",
       "        icon_img.addClass('ui-corner-all');\n",
       "\n",
       "        var tooltip_span = $('<span/>');\n",
       "        tooltip_span.addClass('ui-button-text');\n",
       "        tooltip_span.html(tooltip);\n",
       "\n",
       "        button.append(icon_img);\n",
       "        button.append(tooltip_span);\n",
       "\n",
       "        nav_element.append(button);\n",
       "    }\n",
       "\n",
       "    var fmt_picker_span = $('<span/>');\n",
       "\n",
       "    var fmt_picker = $('<select/>');\n",
       "    fmt_picker.addClass('mpl-toolbar-option ui-widget ui-widget-content');\n",
       "    fmt_picker_span.append(fmt_picker);\n",
       "    nav_element.append(fmt_picker_span);\n",
       "    this.format_dropdown = fmt_picker[0];\n",
       "\n",
       "    for (var ind in mpl.extensions) {\n",
       "        var fmt = mpl.extensions[ind];\n",
       "        var option = $(\n",
       "            '<option/>', {selected: fmt === mpl.default_extension}).html(fmt);\n",
       "        fmt_picker.append(option)\n",
       "    }\n",
       "\n",
       "    // Add hover states to the ui-buttons\n",
       "    $( \".ui-button\" ).hover(\n",
       "        function() { $(this).addClass(\"ui-state-hover\");},\n",
       "        function() { $(this).removeClass(\"ui-state-hover\");}\n",
       "    );\n",
       "\n",
       "    var status_bar = $('<span class=\"mpl-message\"/>');\n",
       "    nav_element.append(status_bar);\n",
       "    this.message = status_bar[0];\n",
       "}\n",
       "\n",
       "mpl.figure.prototype.request_resize = function(x_pixels, y_pixels) {\n",
       "    // Request matplotlib to resize the figure. Matplotlib will then trigger a resize in the client,\n",
       "    // which will in turn request a refresh of the image.\n",
       "    this.send_message('resize', {'width': x_pixels, 'height': y_pixels});\n",
       "}\n",
       "\n",
       "mpl.figure.prototype.send_message = function(type, properties) {\n",
       "    properties['type'] = type;\n",
       "    properties['figure_id'] = this.id;\n",
       "    this.ws.send(JSON.stringify(properties));\n",
       "}\n",
       "\n",
       "mpl.figure.prototype.send_draw_message = function() {\n",
       "    if (!this.waiting) {\n",
       "        this.waiting = true;\n",
       "        this.ws.send(JSON.stringify({type: \"draw\", figure_id: this.id}));\n",
       "    }\n",
       "}\n",
       "\n",
       "\n",
       "mpl.figure.prototype.handle_save = function(fig, msg) {\n",
       "    var format_dropdown = fig.format_dropdown;\n",
       "    var format = format_dropdown.options[format_dropdown.selectedIndex].value;\n",
       "    fig.ondownload(fig, format);\n",
       "}\n",
       "\n",
       "\n",
       "mpl.figure.prototype.handle_resize = function(fig, msg) {\n",
       "    var size = msg['size'];\n",
       "    if (size[0] != fig.canvas.width || size[1] != fig.canvas.height) {\n",
       "        fig._resize_canvas(size[0], size[1]);\n",
       "        fig.send_message(\"refresh\", {});\n",
       "    };\n",
       "}\n",
       "\n",
       "mpl.figure.prototype.handle_rubberband = function(fig, msg) {\n",
       "    var x0 = msg['x0'] / mpl.ratio;\n",
       "    var y0 = (fig.canvas.height - msg['y0']) / mpl.ratio;\n",
       "    var x1 = msg['x1'] / mpl.ratio;\n",
       "    var y1 = (fig.canvas.height - msg['y1']) / mpl.ratio;\n",
       "    x0 = Math.floor(x0) + 0.5;\n",
       "    y0 = Math.floor(y0) + 0.5;\n",
       "    x1 = Math.floor(x1) + 0.5;\n",
       "    y1 = Math.floor(y1) + 0.5;\n",
       "    var min_x = Math.min(x0, x1);\n",
       "    var min_y = Math.min(y0, y1);\n",
       "    var width = Math.abs(x1 - x0);\n",
       "    var height = Math.abs(y1 - y0);\n",
       "\n",
       "    fig.rubberband_context.clearRect(\n",
       "        0, 0, fig.canvas.width, fig.canvas.height);\n",
       "\n",
       "    fig.rubberband_context.strokeRect(min_x, min_y, width, height);\n",
       "}\n",
       "\n",
       "mpl.figure.prototype.handle_figure_label = function(fig, msg) {\n",
       "    // Updates the figure title.\n",
       "    fig.header.textContent = msg['label'];\n",
       "}\n",
       "\n",
       "mpl.figure.prototype.handle_cursor = function(fig, msg) {\n",
       "    var cursor = msg['cursor'];\n",
       "    switch(cursor)\n",
       "    {\n",
       "    case 0:\n",
       "        cursor = 'pointer';\n",
       "        break;\n",
       "    case 1:\n",
       "        cursor = 'default';\n",
       "        break;\n",
       "    case 2:\n",
       "        cursor = 'crosshair';\n",
       "        break;\n",
       "    case 3:\n",
       "        cursor = 'move';\n",
       "        break;\n",
       "    }\n",
       "    fig.rubberband_canvas.style.cursor = cursor;\n",
       "}\n",
       "\n",
       "mpl.figure.prototype.handle_message = function(fig, msg) {\n",
       "    fig.message.textContent = msg['message'];\n",
       "}\n",
       "\n",
       "mpl.figure.prototype.handle_draw = function(fig, msg) {\n",
       "    // Request the server to send over a new figure.\n",
       "    fig.send_draw_message();\n",
       "}\n",
       "\n",
       "mpl.figure.prototype.handle_image_mode = function(fig, msg) {\n",
       "    fig.image_mode = msg['mode'];\n",
       "}\n",
       "\n",
       "mpl.figure.prototype.updated_canvas_event = function() {\n",
       "    // Called whenever the canvas gets updated.\n",
       "    this.send_message(\"ack\", {});\n",
       "}\n",
       "\n",
       "// A function to construct a web socket function for onmessage handling.\n",
       "// Called in the figure constructor.\n",
       "mpl.figure.prototype._make_on_message_function = function(fig) {\n",
       "    return function socket_on_message(evt) {\n",
       "        if (evt.data instanceof Blob) {\n",
       "            /* FIXME: We get \"Resource interpreted as Image but\n",
       "             * transferred with MIME type text/plain:\" errors on\n",
       "             * Chrome.  But how to set the MIME type?  It doesn't seem\n",
       "             * to be part of the websocket stream */\n",
       "            evt.data.type = \"image/png\";\n",
       "\n",
       "            /* Free the memory for the previous frames */\n",
       "            if (fig.imageObj.src) {\n",
       "                (window.URL || window.webkitURL).revokeObjectURL(\n",
       "                    fig.imageObj.src);\n",
       "            }\n",
       "\n",
       "            fig.imageObj.src = (window.URL || window.webkitURL).createObjectURL(\n",
       "                evt.data);\n",
       "            fig.updated_canvas_event();\n",
       "            fig.waiting = false;\n",
       "            return;\n",
       "        }\n",
       "        else if (typeof evt.data === 'string' && evt.data.slice(0, 21) == \"data:image/png;base64\") {\n",
       "            fig.imageObj.src = evt.data;\n",
       "            fig.updated_canvas_event();\n",
       "            fig.waiting = false;\n",
       "            return;\n",
       "        }\n",
       "\n",
       "        var msg = JSON.parse(evt.data);\n",
       "        var msg_type = msg['type'];\n",
       "\n",
       "        // Call the  \"handle_{type}\" callback, which takes\n",
       "        // the figure and JSON message as its only arguments.\n",
       "        try {\n",
       "            var callback = fig[\"handle_\" + msg_type];\n",
       "        } catch (e) {\n",
       "            console.log(\"No handler for the '\" + msg_type + \"' message type: \", msg);\n",
       "            return;\n",
       "        }\n",
       "\n",
       "        if (callback) {\n",
       "            try {\n",
       "                // console.log(\"Handling '\" + msg_type + \"' message: \", msg);\n",
       "                callback(fig, msg);\n",
       "            } catch (e) {\n",
       "                console.log(\"Exception inside the 'handler_\" + msg_type + \"' callback:\", e, e.stack, msg);\n",
       "            }\n",
       "        }\n",
       "    };\n",
       "}\n",
       "\n",
       "// from http://stackoverflow.com/questions/1114465/getting-mouse-location-in-canvas\n",
       "mpl.findpos = function(e) {\n",
       "    //this section is from http://www.quirksmode.org/js/events_properties.html\n",
       "    var targ;\n",
       "    if (!e)\n",
       "        e = window.event;\n",
       "    if (e.target)\n",
       "        targ = e.target;\n",
       "    else if (e.srcElement)\n",
       "        targ = e.srcElement;\n",
       "    if (targ.nodeType == 3) // defeat Safari bug\n",
       "        targ = targ.parentNode;\n",
       "\n",
       "    // jQuery normalizes the pageX and pageY\n",
       "    // pageX,Y are the mouse positions relative to the document\n",
       "    // offset() returns the position of the element relative to the document\n",
       "    var x = e.pageX - $(targ).offset().left;\n",
       "    var y = e.pageY - $(targ).offset().top;\n",
       "\n",
       "    return {\"x\": x, \"y\": y};\n",
       "};\n",
       "\n",
       "/*\n",
       " * return a copy of an object with only non-object keys\n",
       " * we need this to avoid circular references\n",
       " * http://stackoverflow.com/a/24161582/3208463\n",
       " */\n",
       "function simpleKeys (original) {\n",
       "  return Object.keys(original).reduce(function (obj, key) {\n",
       "    if (typeof original[key] !== 'object')\n",
       "        obj[key] = original[key]\n",
       "    return obj;\n",
       "  }, {});\n",
       "}\n",
       "\n",
       "mpl.figure.prototype.mouse_event = function(event, name) {\n",
       "    var canvas_pos = mpl.findpos(event)\n",
       "\n",
       "    if (name === 'button_press')\n",
       "    {\n",
       "        this.canvas.focus();\n",
       "        this.canvas_div.focus();\n",
       "    }\n",
       "\n",
       "    var x = canvas_pos.x * mpl.ratio;\n",
       "    var y = canvas_pos.y * mpl.ratio;\n",
       "\n",
       "    this.send_message(name, {x: x, y: y, button: event.button,\n",
       "                             step: event.step,\n",
       "                             guiEvent: simpleKeys(event)});\n",
       "\n",
       "    /* This prevents the web browser from automatically changing to\n",
       "     * the text insertion cursor when the button is pressed.  We want\n",
       "     * to control all of the cursor setting manually through the\n",
       "     * 'cursor' event from matplotlib */\n",
       "    event.preventDefault();\n",
       "    return false;\n",
       "}\n",
       "\n",
       "mpl.figure.prototype._key_event_extra = function(event, name) {\n",
       "    // Handle any extra behaviour associated with a key event\n",
       "}\n",
       "\n",
       "mpl.figure.prototype.key_event = function(event, name) {\n",
       "\n",
       "    // Prevent repeat events\n",
       "    if (name == 'key_press')\n",
       "    {\n",
       "        if (event.which === this._key)\n",
       "            return;\n",
       "        else\n",
       "            this._key = event.which;\n",
       "    }\n",
       "    if (name == 'key_release')\n",
       "        this._key = null;\n",
       "\n",
       "    var value = '';\n",
       "    if (event.ctrlKey && event.which != 17)\n",
       "        value += \"ctrl+\";\n",
       "    if (event.altKey && event.which != 18)\n",
       "        value += \"alt+\";\n",
       "    if (event.shiftKey && event.which != 16)\n",
       "        value += \"shift+\";\n",
       "\n",
       "    value += 'k';\n",
       "    value += event.which.toString();\n",
       "\n",
       "    this._key_event_extra(event, name);\n",
       "\n",
       "    this.send_message(name, {key: value,\n",
       "                             guiEvent: simpleKeys(event)});\n",
       "    return false;\n",
       "}\n",
       "\n",
       "mpl.figure.prototype.toolbar_button_onclick = function(name) {\n",
       "    if (name == 'download') {\n",
       "        this.handle_save(this, null);\n",
       "    } else {\n",
       "        this.send_message(\"toolbar_button\", {name: name});\n",
       "    }\n",
       "};\n",
       "\n",
       "mpl.figure.prototype.toolbar_button_onmouseover = function(tooltip) {\n",
       "    this.message.textContent = tooltip;\n",
       "};\n",
       "mpl.toolbar_items = [[\"Home\", \"Reset original view\", \"fa fa-home icon-home\", \"home\"], [\"Back\", \"Back to  previous view\", \"fa fa-arrow-left icon-arrow-left\", \"back\"], [\"Forward\", \"Forward to next view\", \"fa fa-arrow-right icon-arrow-right\", \"forward\"], [\"\", \"\", \"\", \"\"], [\"Pan\", \"Pan axes with left mouse, zoom with right\", \"fa fa-arrows icon-move\", \"pan\"], [\"Zoom\", \"Zoom to rectangle\", \"fa fa-square-o icon-check-empty\", \"zoom\"], [\"\", \"\", \"\", \"\"], [\"Download\", \"Download plot\", \"fa fa-floppy-o icon-save\", \"download\"]];\n",
       "\n",
       "mpl.extensions = [\"eps\", \"jpeg\", \"pdf\", \"png\", \"ps\", \"raw\", \"svg\", \"tif\"];\n",
       "\n",
       "mpl.default_extension = \"png\";var comm_websocket_adapter = function(comm) {\n",
       "    // Create a \"websocket\"-like object which calls the given IPython comm\n",
       "    // object with the appropriate methods. Currently this is a non binary\n",
       "    // socket, so there is still some room for performance tuning.\n",
       "    var ws = {};\n",
       "\n",
       "    ws.close = function() {\n",
       "        comm.close()\n",
       "    };\n",
       "    ws.send = function(m) {\n",
       "        //console.log('sending', m);\n",
       "        comm.send(m);\n",
       "    };\n",
       "    // Register the callback with on_msg.\n",
       "    comm.on_msg(function(msg) {\n",
       "        //console.log('receiving', msg['content']['data'], msg);\n",
       "        // Pass the mpl event to the overriden (by mpl) onmessage function.\n",
       "        ws.onmessage(msg['content']['data'])\n",
       "    });\n",
       "    return ws;\n",
       "}\n",
       "\n",
       "mpl.mpl_figure_comm = function(comm, msg) {\n",
       "    // This is the function which gets called when the mpl process\n",
       "    // starts-up an IPython Comm through the \"matplotlib\" channel.\n",
       "\n",
       "    var id = msg.content.data.id;\n",
       "    // Get hold of the div created by the display call when the Comm\n",
       "    // socket was opened in Python.\n",
       "    var element = $(\"#\" + id);\n",
       "    var ws_proxy = comm_websocket_adapter(comm)\n",
       "\n",
       "    function ondownload(figure, format) {\n",
       "        window.open(figure.imageObj.src);\n",
       "    }\n",
       "\n",
       "    var fig = new mpl.figure(id, ws_proxy,\n",
       "                           ondownload,\n",
       "                           element.get(0));\n",
       "\n",
       "    // Call onopen now - mpl needs it, as it is assuming we've passed it a real\n",
       "    // web socket which is closed, not our websocket->open comm proxy.\n",
       "    ws_proxy.onopen();\n",
       "\n",
       "    fig.parent_element = element.get(0);\n",
       "    fig.cell_info = mpl.find_output_cell(\"<div id='\" + id + \"'></div>\");\n",
       "    if (!fig.cell_info) {\n",
       "        console.error(\"Failed to find cell for figure\", id, fig);\n",
       "        return;\n",
       "    }\n",
       "\n",
       "    var output_index = fig.cell_info[2]\n",
       "    var cell = fig.cell_info[0];\n",
       "\n",
       "};\n",
       "\n",
       "mpl.figure.prototype.handle_close = function(fig, msg) {\n",
       "    var width = fig.canvas.width/mpl.ratio\n",
       "    fig.root.unbind('remove')\n",
       "\n",
       "    // Update the output cell to use the data from the current canvas.\n",
       "    fig.push_to_output();\n",
       "    var dataURL = fig.canvas.toDataURL();\n",
       "    // Re-enable the keyboard manager in IPython - without this line, in FF,\n",
       "    // the notebook keyboard shortcuts fail.\n",
       "    IPython.keyboard_manager.enable()\n",
       "    $(fig.parent_element).html('<img src=\"' + dataURL + '\" width=\"' + width + '\">');\n",
       "    fig.close_ws(fig, msg);\n",
       "}\n",
       "\n",
       "mpl.figure.prototype.close_ws = function(fig, msg){\n",
       "    fig.send_message('closing', msg);\n",
       "    // fig.ws.close()\n",
       "}\n",
       "\n",
       "mpl.figure.prototype.push_to_output = function(remove_interactive) {\n",
       "    // Turn the data on the canvas into data in the output cell.\n",
       "    var width = this.canvas.width/mpl.ratio\n",
       "    var dataURL = this.canvas.toDataURL();\n",
       "    this.cell_info[1]['text/html'] = '<img src=\"' + dataURL + '\" width=\"' + width + '\">';\n",
       "}\n",
       "\n",
       "mpl.figure.prototype.updated_canvas_event = function() {\n",
       "    // Tell IPython that the notebook contents must change.\n",
       "    IPython.notebook.set_dirty(true);\n",
       "    this.send_message(\"ack\", {});\n",
       "    var fig = this;\n",
       "    // Wait a second, then push the new image to the DOM so\n",
       "    // that it is saved nicely (might be nice to debounce this).\n",
       "    setTimeout(function () { fig.push_to_output() }, 1000);\n",
       "}\n",
       "\n",
       "mpl.figure.prototype._init_toolbar = function() {\n",
       "    var fig = this;\n",
       "\n",
       "    var nav_element = $('<div/>')\n",
       "    nav_element.attr('style', 'width: 100%');\n",
       "    this.root.append(nav_element);\n",
       "\n",
       "    // Define a callback function for later on.\n",
       "    function toolbar_event(event) {\n",
       "        return fig.toolbar_button_onclick(event['data']);\n",
       "    }\n",
       "    function toolbar_mouse_event(event) {\n",
       "        return fig.toolbar_button_onmouseover(event['data']);\n",
       "    }\n",
       "\n",
       "    for(var toolbar_ind in mpl.toolbar_items){\n",
       "        var name = mpl.toolbar_items[toolbar_ind][0];\n",
       "        var tooltip = mpl.toolbar_items[toolbar_ind][1];\n",
       "        var image = mpl.toolbar_items[toolbar_ind][2];\n",
       "        var method_name = mpl.toolbar_items[toolbar_ind][3];\n",
       "\n",
       "        if (!name) { continue; };\n",
       "\n",
       "        var button = $('<button class=\"btn btn-default\" href=\"#\" title=\"' + name + '\"><i class=\"fa ' + image + ' fa-lg\"></i></button>');\n",
       "        button.click(method_name, toolbar_event);\n",
       "        button.mouseover(tooltip, toolbar_mouse_event);\n",
       "        nav_element.append(button);\n",
       "    }\n",
       "\n",
       "    // Add the status bar.\n",
       "    var status_bar = $('<span class=\"mpl-message\" style=\"text-align:right; float: right;\"/>');\n",
       "    nav_element.append(status_bar);\n",
       "    this.message = status_bar[0];\n",
       "\n",
       "    // Add the close button to the window.\n",
       "    var buttongrp = $('<div class=\"btn-group inline pull-right\"></div>');\n",
       "    var button = $('<button class=\"btn btn-mini btn-primary\" href=\"#\" title=\"Stop Interaction\"><i class=\"fa fa-power-off icon-remove icon-large\"></i></button>');\n",
       "    button.click(function (evt) { fig.handle_close(fig, {}); } );\n",
       "    button.mouseover('Stop Interaction', toolbar_mouse_event);\n",
       "    buttongrp.append(button);\n",
       "    var titlebar = this.root.find($('.ui-dialog-titlebar'));\n",
       "    titlebar.prepend(buttongrp);\n",
       "}\n",
       "\n",
       "mpl.figure.prototype._root_extra_style = function(el){\n",
       "    var fig = this\n",
       "    el.on(\"remove\", function(){\n",
       "\tfig.close_ws(fig, {});\n",
       "    });\n",
       "}\n",
       "\n",
       "mpl.figure.prototype._canvas_extra_style = function(el){\n",
       "    // this is important to make the div 'focusable\n",
       "    el.attr('tabindex', 0)\n",
       "    // reach out to IPython and tell the keyboard manager to turn it's self\n",
       "    // off when our div gets focus\n",
       "\n",
       "    // location in version 3\n",
       "    if (IPython.notebook.keyboard_manager) {\n",
       "        IPython.notebook.keyboard_manager.register_events(el);\n",
       "    }\n",
       "    else {\n",
       "        // location in version 2\n",
       "        IPython.keyboard_manager.register_events(el);\n",
       "    }\n",
       "\n",
       "}\n",
       "\n",
       "mpl.figure.prototype._key_event_extra = function(event, name) {\n",
       "    var manager = IPython.notebook.keyboard_manager;\n",
       "    if (!manager)\n",
       "        manager = IPython.keyboard_manager;\n",
       "\n",
       "    // Check for shift+enter\n",
       "    if (event.shiftKey && event.which == 13) {\n",
       "        this.canvas_div.blur();\n",
       "        event.shiftKey = false;\n",
       "        // Send a \"J\" for go to next cell\n",
       "        event.which = 74;\n",
       "        event.keyCode = 74;\n",
       "        manager.command_mode();\n",
       "        manager.handle_keydown(event);\n",
       "    }\n",
       "}\n",
       "\n",
       "mpl.figure.prototype.handle_save = function(fig, msg) {\n",
       "    fig.ondownload(fig, null);\n",
       "}\n",
       "\n",
       "\n",
       "mpl.find_output_cell = function(html_output) {\n",
       "    // Return the cell and output element which can be found *uniquely* in the notebook.\n",
       "    // Note - this is a bit hacky, but it is done because the \"notebook_saving.Notebook\"\n",
       "    // IPython event is triggered only after the cells have been serialised, which for\n",
       "    // our purposes (turning an active figure into a static one), is too late.\n",
       "    var cells = IPython.notebook.get_cells();\n",
       "    var ncells = cells.length;\n",
       "    for (var i=0; i<ncells; i++) {\n",
       "        var cell = cells[i];\n",
       "        if (cell.cell_type === 'code'){\n",
       "            for (var j=0; j<cell.output_area.outputs.length; j++) {\n",
       "                var data = cell.output_area.outputs[j];\n",
       "                if (data.data) {\n",
       "                    // IPython >= 3 moved mimebundle to data attribute of output\n",
       "                    data = data.data;\n",
       "                }\n",
       "                if (data['text/html'] == html_output) {\n",
       "                    return [cell, data, j];\n",
       "                }\n",
       "            }\n",
       "        }\n",
       "    }\n",
       "}\n",
       "\n",
       "// Register the function which deals with the matplotlib target/channel.\n",
       "// The kernel may be null if the page has been refreshed.\n",
       "if (IPython.notebook.kernel != null) {\n",
       "    IPython.notebook.kernel.comm_manager.register_target('matplotlib', mpl.mpl_figure_comm);\n",
       "}\n"
      ],
      "text/plain": [
       "<IPython.core.display.Javascript object>"
      ]
     },
     "metadata": {},
     "output_type": "display_data"
    },
    {
     "data": {
      "text/html": [
       "<img src=\"data:image/png;base64,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\" width=\"640\">"
      ],
      "text/plain": [
       "<IPython.core.display.HTML object>"
      ]
     },
     "metadata": {},
     "output_type": "display_data"
    },
    {
     "data": {
      "text/plain": [
       "[<matplotlib.lines.Line2D at 0x1a1bd53ac8>]"
      ]
     },
     "execution_count": 38,
     "metadata": {},
     "output_type": "execute_result"
    }
   ],
   "source": [
    "segedX = np.linspace(-6,6,200)\n",
    "plt.plot(segedX, activation(segedX))\n",
    "plt.plot(segedX, dactivation(segedX))"
   ]
  },
  {
   "cell_type": "code",
   "execution_count": 29,
   "metadata": {},
   "outputs": [
    {
     "ename": "SyntaxError",
     "evalue": "invalid syntax (<ipython-input-29-90b229704071>, line 7)",
     "output_type": "error",
     "traceback": [
      "\u001b[0;36m  File \u001b[0;32m\"<ipython-input-29-90b229704071>\"\u001b[0;36m, line \u001b[0;32m7\u001b[0m\n\u001b[0;31m    self.layers.append(..........\u001b[0m\n\u001b[0m                            ^\u001b[0m\n\u001b[0;31mSyntaxError\u001b[0m\u001b[0;31m:\u001b[0m invalid syntax\n"
     ]
    }
   ],
   "source": [
    "class MLP:\n",
    "    def __init__(self, *args):\n",
    "        \n",
    "        np.random.seed(123)\n",
    "        \n",
    "        self.shape = args # pl.: [2,3,1]\n",
    "        n = len(args) # hany reteg van\n",
    "\n",
    "        self.layers = []\n",
    "        self.layers.append(np.ones(self.shape[0]+1)) # bementek + bias\n",
    "        for i in range(1,n):\n",
    "            self.layers.append(np.ones(self.shape[i])) # a(..)-val jeloltuk\n",
    "\n",
    "        self.weights = []\n",
    "        for i in range(n-1):\n",
    "            self.weights.append(np.zeros((self.layers[i].size,\n",
    "                                         self.layers[i+1].size)))\n",
    "        \n",
    "        self.dw = [0,]*len(self.weights) #ebben fogjuk a gradienst eltárolni\n",
    "        self.reset()\n",
    "    \n",
    "    def reset(self):\n",
    "        for i in range(len(self.weights)):\n",
    "            Z = np.random...\n",
    "            self.weights....\n",
    "\n",
    "    def propagate_forward(self, data):\n",
    "        self.layers....\n",
    "        for i in range(....\n",
    "            self.layers....\n",
    "\n",
    "        return ....\n",
    "\n",
    "    def propagate_backward(self, target, lrate=0.1):\n",
    "        deltas = []\n",
    "        error = ....\n",
    "        delta = ....\n",
    "        ...\n",
    "        # Gradiens kiszámítása a rejtett réteg(ek)ben\n",
    "        for i in range(...\n",
    "            ...\n",
    "        # Súlyok módosítása\n",
    "        for i in range(...\n",
    "            ...\n",
    "\n",
    "        # Visszatérés a hibával\n",
    "        return ...\n",
    "                        "
   ]
  },
  {
   "cell_type": "code",
   "execution_count": 30,
   "metadata": {},
   "outputs": [
    {
     "ename": "IndentationError",
     "evalue": "unindent does not match any outer indentation level (<tokenize>, line 24)",
     "output_type": "error",
     "traceback": [
      "\u001b[0;36m  File \u001b[0;32m\"<tokenize>\"\u001b[0;36m, line \u001b[0;32m24\u001b[0m\n\u001b[0;31m    ...\u001b[0m\n\u001b[0m    ^\u001b[0m\n\u001b[0;31mIndentationError\u001b[0m\u001b[0;31m:\u001b[0m unindent does not match any outer indentation level\n"
     ]
    }
   ],
   "source": [
    "def learn(network, X, Y, valid_split, test_split, epochs=5000, lrate=0.01):\n",
    "\n",
    "        # train-validation-test minták különválasztása\n",
    "        X_train = ...\n",
    "        Y_train = ...\n",
    "        X_valid = ...\n",
    "        Y_valid = ...\n",
    "        X_test  = ...\n",
    "        Y_test  = ...\n",
    "    \n",
    "        # standardizálás\n",
    "        scaler = ...\n",
    "\t\t...\n",
    "\t\t\n",
    "    \n",
    "        # shuffle\n",
    "        ...\n",
    "\t\t\n",
    "        # Tanítási fázis, epoch-szor megyünk át 1-1 véltelenszerűen kiválasztott mintán.\n",
    "        for i in range(epochs):\n",
    "\t\t\t\t....\n",
    "\t\t\t\t\n",
    "        # Tesztelési fázis\n",
    "\t\t...\n",
    "        fig1=plt.figure()\n",
    "        plt.scatter(..."
   ]
  },
  {
   "cell_type": "code",
   "execution_count": 39,
   "metadata": {},
   "outputs": [
    {
     "ename": "SyntaxError",
     "evalue": "invalid syntax (<ipython-input-39-05b182b24320>, line 1)",
     "output_type": "error",
     "traceback": [
      "\u001b[0;36m  File \u001b[0;32m\"<ipython-input-39-05b182b24320>\"\u001b[0;36m, line \u001b[0;32m1\u001b[0m\n\u001b[0;31m    def vlaalmi ()\u001b[0m\n\u001b[0m                  ^\u001b[0m\n\u001b[0;31mSyntaxError\u001b[0m\u001b[0;31m:\u001b[0m invalid syntax\n"
     ]
    }
   ],
   "source": [
    "def vlaalmi (dad):\n",
    "    dsadsa\n",
    "    sdafs\n",
    "    "
   ]
  },
  {
   "cell_type": "code",
   "execution_count": null,
   "metadata": {},
   "outputs": [],
   "source": []
  }
 ],
 "metadata": {
  "kernelspec": {
   "display_name": "Python 3",
   "language": "python",
   "name": "python3"
  },
  "language_info": {
   "codemirror_mode": {
    "name": "ipython",
    "version": 3
   },
   "file_extension": ".py",
   "mimetype": "text/x-python",
   "name": "python",
   "nbconvert_exporter": "python",
   "pygments_lexer": "ipython3",
   "version": "3.6.4"
  }
 },
 "nbformat": 4,
 "nbformat_minor": 2
}
